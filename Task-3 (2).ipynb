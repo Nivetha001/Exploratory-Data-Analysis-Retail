{
 "cells": [
  {
   "cell_type": "markdown",
   "id": "1c14ddb4",
   "metadata": {},
   "source": [
    "### The Sparks Foundation || GRIP JUNE 21\n",
    "\n",
    "###  DataScience and Business Analytics Intern \n",
    "\n",
    "###  Task-3: Exploratory Data Analysis - Retail (Level-Beginner)\n",
    "\n",
    "###  Author:  Nivetha"
   ]
  },
  {
   "cell_type": "markdown",
   "id": "9c0a0a9a",
   "metadata": {},
   "source": [
    "### ..........................................................Importing the necessary Libraries................................................................."
   ]
  },
  {
   "cell_type": "code",
   "execution_count": null,
   "id": "c29317da",
   "metadata": {},
   "outputs": [],
   "source": [
    "import numpy as np\n",
    "import pandas as pd\n",
    "import matplotlib.pyplot as plt\n",
    "import seaborn as sns"
   ]
  },
  {
   "cell_type": "markdown",
   "id": "8c751d1b",
   "metadata": {},
   "source": [
    "### ...................................................Reading the SampleSuperstore Dataset.................................................."
   ]
  },
  {
   "cell_type": "code",
   "execution_count": null,
   "id": "3c47d98d",
   "metadata": {},
   "outputs": [],
   "source": [
    "Data=pd.read_csv(r'C:\\Users\\NIVETHA\\Downloads\\SampleSuperstore(1).csv')"
   ]
  },
  {
   "cell_type": "code",
   "execution_count": null,
   "id": "585f43e6",
   "metadata": {},
   "outputs": [],
   "source": [
    "Data.head(7)         "
   ]
  },
  {
   "cell_type": "code",
   "execution_count": null,
   "id": "77e781c5",
   "metadata": {},
   "outputs": [],
   "source": [
    "Data.info()     "
   ]
  },
  {
   "cell_type": "code",
   "execution_count": null,
   "id": "0e2adc7c",
   "metadata": {},
   "outputs": [],
   "source": [
    "Data.shape             # checking shape of the whole dataset"
   ]
  },
  {
   "cell_type": "markdown",
   "id": "7f5a7f13",
   "metadata": {},
   "source": [
    "### ..............................................................Identify the Empty cells......................................................................."
   ]
  },
  {
   "cell_type": "code",
   "execution_count": null,
   "id": "be6c0682",
   "metadata": {},
   "outputs": [],
   "source": [
    "Data.isnull().sum()   # checking Null values"
   ]
  },
  {
   "cell_type": "markdown",
   "id": "8949591d",
   "metadata": {},
   "source": [
    "#### Here All the columns variable are non-null"
   ]
  },
  {
   "cell_type": "markdown",
   "id": "4d44ee04",
   "metadata": {},
   "source": [
    "## .....................................................Cleaning the Data................................................................"
   ]
  },
  {
   "cell_type": "markdown",
   "id": "1aef8c06",
   "metadata": {},
   "source": [
    "### Is there any Duplicate Record in this dataset? if yes,then remove the duplicate records"
   ]
  },
  {
   "cell_type": "code",
   "execution_count": null,
   "id": "2260f695",
   "metadata": {},
   "outputs": [],
   "source": [
    "# checking total no of duplicates\n",
    " \n",
    "Data.duplicated().sum()"
   ]
  },
  {
   "cell_type": "code",
   "execution_count": null,
   "id": "b454ea00",
   "metadata": {},
   "outputs": [],
   "source": [
    "# Checking which 17 records are duplicated\n",
    "\n",
    "Data[Data.duplicated()]"
   ]
  },
  {
   "cell_type": "code",
   "execution_count": null,
   "id": "f021b8e2",
   "metadata": {},
   "outputs": [],
   "source": [
    "# Removing the duplicated record from dataset\n",
    "\n",
    "Data.drop_duplicates(inplace=True)"
   ]
  },
  {
   "cell_type": "code",
   "execution_count": null,
   "id": "862053a4",
   "metadata": {},
   "outputs": [],
   "source": [
    "# Again checking total no of duplicates\n",
    "\n",
    "Data.duplicated().sum()                                                                                                "
   ]
  },
  {
   "cell_type": "code",
   "execution_count": null,
   "id": "afab62df",
   "metadata": {},
   "outputs": [],
   "source": [
    "# checking shape again after removing 17 duplicated rows\n",
    "\n",
    "Data.shape"
   ]
  },
  {
   "cell_type": "code",
   "execution_count": null,
   "id": "ad57f6af",
   "metadata": {},
   "outputs": [],
   "source": [
    "Data['Country'].nunique()"
   ]
  },
  {
   "cell_type": "markdown",
   "id": "84b57184",
   "metadata": {},
   "source": [
    "#### We should drop the country, postal code columns. Because country,postal codes are of no use. so It will not affect further analysis"
   ]
  },
  {
   "cell_type": "code",
   "execution_count": null,
   "id": "32f900c8",
   "metadata": {},
   "outputs": [],
   "source": [
    "# removing the country,postal code\n",
    "\n",
    "del Data['Country']\n",
    "del Data['Postal Code']"
   ]
  },
  {
   "cell_type": "code",
   "execution_count": null,
   "id": "ed60048b",
   "metadata": {},
   "outputs": [],
   "source": [
    "# checking the columns again\n",
    "\n",
    "Data.columns              "
   ]
  },
  {
   "cell_type": "code",
   "execution_count": null,
   "id": "edc19186",
   "metadata": {},
   "outputs": [],
   "source": [
    "Data.describe()"
   ]
  },
  {
   "cell_type": "markdown",
   "id": "c2d52533",
   "metadata": {},
   "source": [
    "## ....................................................Data Visualization......................................................"
   ]
  },
  {
   "cell_type": "code",
   "execution_count": null,
   "id": "98968b40",
   "metadata": {},
   "outputs": [],
   "source": [
    "# compare linear relationship between attributes using correlation coefficient generated using heatmap\n",
    "\n",
    "sns.heatmap(Data.corr(),cmap='viridis',annot=True)\n",
    "plt.show()"
   ]
  },
  {
   "cell_type": "code",
   "execution_count": null,
   "id": "e5c2026f",
   "metadata": {},
   "outputs": [],
   "source": [
    "# total sales\n",
    "\n",
    "tot=round(sum(Data['Sales']),2)\n",
    "print('Total sales',tot)"
   ]
  },
  {
   "cell_type": "code",
   "execution_count": null,
   "id": "8484da98",
   "metadata": {},
   "outputs": [],
   "source": [
    "# total quantity sold\n",
    "\n",
    "sold=sum(Data['Quantity'])\n",
    "print('Total Quantity sold',sold)"
   ]
  },
  {
   "cell_type": "code",
   "execution_count": null,
   "id": "ea0a857d",
   "metadata": {},
   "outputs": [],
   "source": [
    "# total profit\n",
    "\n",
    "pf=round(sum(Data['Profit']),2)\n",
    "print('Total profit',pf)"
   ]
  },
  {
   "cell_type": "markdown",
   "id": "e6ebd14c",
   "metadata": {},
   "source": [
    "#### Total Sales                      = 2296195.59\n",
    "#### Total Quantity Sold        = 37820\n",
    "#### Total Profit                      = 286241.42"
   ]
  },
  {
   "cell_type": "code",
   "execution_count": null,
   "id": "f92017b4",
   "metadata": {},
   "outputs": [],
   "source": [
    "sns.pairplot(Data)                                           # pairplot takes only numerical values"
   ]
  },
  {
   "cell_type": "code",
   "execution_count": null,
   "id": "56c71abd",
   "metadata": {},
   "outputs": [],
   "source": [
    "fig,ax=plt.subplots(figsize=(10,6))\n",
    "ax.scatter(Data['Sales'],Data['Profit'],marker=\".\")\n",
    "ax.set_xlabel('Sales')\n",
    "ax.set_ylabel('Profit')\n",
    "plt.title('Scatterplot')\n",
    "plt.show()"
   ]
  },
  {
   "cell_type": "markdown",
   "id": "0f44a0d4",
   "metadata": {},
   "source": [
    "### Sub-category region wise"
   ]
  },
  {
   "cell_type": "code",
   "execution_count": null,
   "id": "2eba0caf",
   "metadata": {},
   "outputs": [],
   "source": [
    "plt.figure(figsize=(20,20))\n",
    "sns.countplot(x=\"Sub-Category\", hue=\"Region\", data=Data)\n",
    "plt.title('Sub-Category region wise')\n",
    "plt.show()"
   ]
  },
  {
   "cell_type": "markdown",
   "id": "29efc567",
   "metadata": {},
   "source": [
    "### Discount region wise"
   ]
  },
  {
   "cell_type": "code",
   "execution_count": null,
   "id": "5b359d59",
   "metadata": {},
   "outputs": [],
   "source": [
    "plt.figure(figsize=(20,20))\n",
    "sns.countplot(x=\"Discount\", hue=\"Region\", data=Data)\n",
    "plt.title('Discount region wise')\n",
    "plt.show()"
   ]
  },
  {
   "cell_type": "code",
   "execution_count": null,
   "id": "a06444d0",
   "metadata": {},
   "outputs": [],
   "source": [
    "Data.hist(bins=50,figsize=(20,15))                           \n",
    "plt.show()"
   ]
  },
  {
   "cell_type": "code",
   "execution_count": null,
   "id": "e41ccd5a",
   "metadata": {},
   "outputs": [],
   "source": [
    "#value counts for ship mode\n",
    "Data['Ship Mode'].value_counts()"
   ]
  },
  {
   "cell_type": "code",
   "execution_count": null,
   "id": "8d2b80e8",
   "metadata": {},
   "outputs": [],
   "source": [
    "sns.countplot(x=Data['Ship Mode'])\n"
   ]
  },
  {
   "cell_type": "code",
   "execution_count": null,
   "id": "bc5a7866",
   "metadata": {},
   "outputs": [],
   "source": [
    "Data['Segment'].value_counts()"
   ]
  },
  {
   "cell_type": "code",
   "execution_count": null,
   "id": "d98a5cc7",
   "metadata": {},
   "outputs": [],
   "source": [
    "sns.countplot(x='Segment',data=Data,palette='rainbow')\n",
    "plt.title('Segment')"
   ]
  },
  {
   "cell_type": "code",
   "execution_count": null,
   "id": "5b929472",
   "metadata": {},
   "outputs": [],
   "source": [
    "Data['Category'].value_counts()                                # counts the value of category"
   ]
  },
  {
   "cell_type": "code",
   "execution_count": null,
   "id": "c624e6f8",
   "metadata": {},
   "outputs": [],
   "source": [
    "sns.countplot(x='Category',data=Data,palette='tab10')         # category visualization using countplot\n",
    "plt.title('Category')"
   ]
  },
  {
   "cell_type": "code",
   "execution_count": null,
   "id": "c8282abf",
   "metadata": {},
   "outputs": [],
   "source": [
    "Data['Sub-Category'].value_counts()                         # counts the value of sub-category"
   ]
  },
  {
   "cell_type": "markdown",
   "id": "39ac7b4b",
   "metadata": {},
   "source": [
    "### Five highest sales displayed here"
   ]
  },
  {
   "cell_type": "code",
   "execution_count": null,
   "id": "8b89c3b9",
   "metadata": {},
   "outputs": [],
   "source": [
    "s=Data.groupby(\"State\")[[\"Sales\",\"Profit\",\"Discount\"]].sum().sort_values(by='Sales',ascending=False)\n",
    "s.head(5)"
   ]
  },
  {
   "cell_type": "markdown",
   "id": "14cdd00a",
   "metadata": {},
   "source": [
    "### First five highest discount diplayed here"
   ]
  },
  {
   "cell_type": "code",
   "execution_count": null,
   "id": "04ba7c78",
   "metadata": {},
   "outputs": [],
   "source": [
    "p=Data.groupby(\"State\")[[\"Sales\",\"Profit\",\"Discount\"]].sum().sort_values(by='Discount',ascending=False)\n",
    "p.head(5)"
   ]
  },
  {
   "cell_type": "markdown",
   "id": "e37e0803",
   "metadata": {},
   "source": [
    "### Profit vs Discount"
   ]
  },
  {
   "cell_type": "code",
   "execution_count": null,
   "id": "ba2d56b1",
   "metadata": {},
   "outputs": [],
   "source": [
    "sns.lineplot(x='Discount',y='Profit',data=Data,color='Blue')\n",
    "plt.title('Profit vs Discount')"
   ]
  },
  {
   "cell_type": "markdown",
   "id": "86b8ad20",
   "metadata": {},
   "source": [
    "### Observation:\n",
    "     \n",
    "#### ✅ Here profit and discount picture shows us clearly, that is \"High Discount\" ultimately leads to loss\n",
    "#### ✅less discount products get good profit comparatively high discount\n",
    "        "
   ]
  },
  {
   "cell_type": "markdown",
   "id": "53717aee",
   "metadata": {},
   "source": [
    "## .......................................................THANK YOU.................................................................."
   ]
  }
 ],
 "metadata": {
  "kernelspec": {
   "display_name": "Python 3",
   "language": "python",
   "name": "python3"
  },
  "language_info": {
   "codemirror_mode": {
    "name": "ipython",
    "version": 3
   },
   "file_extension": ".py",
   "mimetype": "text/x-python",
   "name": "python",
   "nbconvert_exporter": "python",
   "pygments_lexer": "ipython3",
   "version": "3.8.8"
  }
 },
 "nbformat": 4,
 "nbformat_minor": 5
}
